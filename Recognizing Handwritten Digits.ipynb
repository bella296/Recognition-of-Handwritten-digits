{
 "cells": [
  {
   "cell_type": "code",
   "execution_count": 1,
   "id": "88af92c5",
   "metadata": {},
   "outputs": [],
   "source": [
    "from sklearn import svm\n",
    "svc = svm.SVC(gamma=0.001, C=100.)\n",
    "#importing svm for estimator"
   ]
  },
  {
   "cell_type": "code",
   "execution_count": 2,
   "id": "7ffa4444",
   "metadata": {},
   "outputs": [],
   "source": [
    "from sklearn import datasets\n",
    "digits = datasets.load_digits()\n",
    "#loading Digits dataset from datasets"
   ]
  },
  {
   "cell_type": "code",
   "execution_count": 3,
   "id": "40a78d24",
   "metadata": {},
   "outputs": [
    {
     "data": {
      "text/plain": [
       "array([[ 0.,  0.,  0., 12., 13.,  5.,  0.,  0.],\n",
       "       [ 0.,  0.,  0., 11., 16.,  9.,  0.,  0.],\n",
       "       [ 0.,  0.,  3., 15., 16.,  6.,  0.,  0.],\n",
       "       [ 0.,  7., 15., 16., 16.,  2.,  0.,  0.],\n",
       "       [ 0.,  0.,  1., 16., 16.,  3.,  0.,  0.],\n",
       "       [ 0.,  0.,  1., 16., 16.,  6.,  0.,  0.],\n",
       "       [ 0.,  0.,  1., 16., 16.,  6.,  0.,  0.],\n",
       "       [ 0.,  0.,  0., 11., 16., 10.,  0.,  0.]])"
      ]
     },
     "execution_count": 3,
     "metadata": {},
     "output_type": "execute_result"
    }
   ],
   "source": [
    "digits.images[1]\n",
    "#checking greyscale of a digit"
   ]
  },
  {
   "cell_type": "code",
   "execution_count": 4,
   "id": "77f266ee",
   "metadata": {},
   "outputs": [
    {
     "data": {
      "text/plain": [
       "<matplotlib.image.AxesImage at 0x1274d5e0>"
      ]
     },
     "execution_count": 4,
     "metadata": {},
     "output_type": "execute_result"
    },
    {
     "data": {
      "image/png": "[encoded data removed]",
      "text/plain": [
       "<Figure size 432x288 with 1 Axes>"
      ]
     },
     "metadata": {
      "needs_background": "light"
     },
     "output_type": "display_data"
    }
   ],
   "source": [
    "import matplotlib.pyplot as plt\n",
    "%matplotlib inline\n",
    "plt.imshow(digits.images[1], cmap=plt.cm.gray_r, interpolation='nearest')\n",
    "#importing plot to see image of a digit"
   ]
  },
  {
   "cell_type": "code",
   "execution_count": 5,
   "id": "a9a0fd9c",
   "metadata": {},
   "outputs": [
    {
     "data": {
      "text/plain": [
       "SVC(C=100.0, gamma=0.001)"
      ]
     },
     "execution_count": 5,
     "metadata": {},
     "output_type": "execute_result"
    }
   ],
   "source": [
    "svc.fit(digits.data[1:1790], digits.target[1:1790])\n",
    "#fitting data into estimator for training"
   ]
  },
  {
   "cell_type": "code",
   "execution_count": 6,
   "id": "27404b48",
   "metadata": {},
   "outputs": [],
   "source": [
    "pred=svc.predict(digits.data[1791:1796])\n",
    "#giving data for prediction"
   ]
  },
  {
   "cell_type": "code",
   "execution_count": 7,
   "id": "b3a30cd8",
   "metadata": {},
   "outputs": [],
   "source": [
    "test=digits.target[1791:1796]\n",
    "#test data to validate prediction"
   ]
  },
  {
   "cell_type": "code",
   "execution_count": 8,
   "id": "a7308a75",
   "metadata": {},
   "outputs": [
    {
     "name": "stdout",
     "output_type": "stream",
     "text": [
      "\n",
      "Accuracy For The Given Dataset : 100.0%\n"
     ]
    }
   ],
   "source": [
    "from sklearn.metrics import confusion_matrix\n",
    "cm = confusion_matrix(test,pred)\n",
    "accuracy = float(cm.diagonal().sum())/len(test)\n",
    "print(\"\\nAccuracy For The Given Dataset : \"+str(accuracy*100)+\"%\")\n",
    "#checking accuracy using confusion matrix"
   ]
  },
  {
   "cell_type": "code",
   "execution_count": 9,
   "id": "359ba512",
   "metadata": {},
   "outputs": [
    {
     "data": {
      "text/plain": [
       "SVC(C=100.0, gamma=0.001)"
      ]
     },
     "execution_count": 9,
     "metadata": {},
     "output_type": "execute_result"
    }
   ],
   "source": [
    "svc.fit(digits.data[1:1500], digits.target[1:1500])\n",
    "#training using different range of data"
   ]
  },
  {
   "cell_type": "code",
   "execution_count": 10,
   "id": "8d797717",
   "metadata": {},
   "outputs": [
    {
     "name": "stdout",
     "output_type": "stream",
     "text": [
      "\n",
      "Accuracy For The Given Dataset : 95.25423728813558%\n"
     ]
    }
   ],
   "source": [
    "pred=svc.predict(digits.data[1501:1796])\n",
    "test=digits.target[1501:1796]\n",
    "#validation using different range of data\n",
    "from sklearn.metrics import confusion_matrix\n",
    "cm = confusion_matrix(test,pred)\n",
    "accuracy = float(cm.diagonal().sum())/len(test)\n",
    "print(\"\\nAccuracy For The Given Dataset : \"+str(accuracy*100)+\"%\")\n",
    "#checking accuracy using confusion matrix"
   ]
  },
  {
   "cell_type": "code",
   "execution_count": 11,
   "id": "5601b1db",
   "metadata": {},
   "outputs": [
    {
     "data": {
      "text/plain": [
       "SVC(C=100.0, gamma=0.001)"
      ]
     },
     "execution_count": 11,
     "metadata": {},
     "output_type": "execute_result"
    }
   ],
   "source": [
    "svc.fit(digits.data[1:1600], digits.target[1:1600])\n",
    "#training using different range of data"
   ]
  },
  {
   "cell_type": "code",
   "execution_count": 12,
   "id": "aa0f7cfe",
   "metadata": {},
   "outputs": [
    {
     "name": "stdout",
     "output_type": "stream",
     "text": [
      "\n",
      "Accuracy For The Given Dataset : 94.87179487179486%\n"
     ]
    }
   ],
   "source": [
    "pred=svc.predict(digits.data[1601:1796])\n",
    "test=digits.target[1601:1796]\n",
    "#validation using different range of data\n",
    "from sklearn.metrics import confusion_matrix\n",
    "cm = confusion_matrix(test,pred)\n",
    "accuracy = float(cm.diagonal().sum())/len(test)\n",
    "print(\"\\nAccuracy For The Given Dataset : \"+str(accuracy*100)+\"%\")\n",
    "#checking accuracy using confusion matrix"
   ]
  },
  {
   "cell_type": "code",
   "execution_count": null,
   "id": "34d5d897",
   "metadata": {},
   "outputs": [],
   "source": []
  }
 ],
 "metadata": {
  "kernelspec": {
   "display_name": "Python 3",
   "language": "python",
   "name": "python3"
  },
  "language_info": {
   "codemirror_mode": {
    "name": "ipython",
    "version": 3
   },
   "file_extension": ".py",
   "mimetype": "text/x-python",
   "name": "python",
   "nbconvert_exporter": "python",
   "pygments_lexer": "ipython3",
   "version": "3.8.5"
  }
 },
 "nbformat": 4,
 "nbformat_minor": 5
}
